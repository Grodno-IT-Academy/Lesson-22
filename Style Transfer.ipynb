{
 "cells": [
  {
   "cell_type": "markdown",
   "id": "270b4052",
   "metadata": {},
   "source": [
    "Импортируем нужные нам библиотеки"
   ]
  },
  {
   "cell_type": "code",
   "execution_count": null,
   "id": "b3753e3a",
   "metadata": {},
   "outputs": [],
   "source": [
    "import functools\n",
    "import os\n",
    "\n",
    "from matplotlib import gridspec\n",
    "import matplotlib.pylab as plt\n",
    "import numpy as np\n",
    "import tensorflow as tf\n",
    "import tensorflow_hub as hub"
   ]
  },
  {
   "cell_type": "markdown",
   "id": "6d7e8bff",
   "metadata": {},
   "source": [
    "Проверяем версии библиотек"
   ]
  },
  {
   "cell_type": "code",
   "execution_count": null,
   "id": "2cc4d362",
   "metadata": {},
   "outputs": [],
   "source": [
    "print(\"TF Version: \", tf.__version__)\n",
    "print(\"TF-Hub version: \", hub.__version__)\n",
    "print(\"Eager mode enabled: \", tf.executing_eagerly())\n",
    "print(\"GPU list: \", tf.config.list_physical_devices('GPU'))"
   ]
  },
  {
   "cell_type": "markdown",
   "id": "ffda755c",
   "metadata": {},
   "source": [
    "Здесь мы не замарачивались с графичеким драйвером так как на моём ноуте `AMD` графика а не `NVIDIA CUDA`"
   ]
  },
  {
   "cell_type": "markdown",
   "id": "83502154",
   "metadata": {},
   "source": [
    "# Вспомогательные функции \n",
    "для работы с картинками"
   ]
  },
  {
   "cell_type": "code",
   "execution_count": null,
   "id": "9171d504",
   "metadata": {},
   "outputs": [],
   "source": [
    "def crop_center(image):\n",
    "    # Возвращает квадратную обрезанную картинку.\n",
    "    shape = image.shape\n",
    "    new_shape = min(shape[1], shape[2])\n",
    "    offset_y = max(shape[1] - shape[2], 0) // 2\n",
    "    offset_x = max(shape[2] - shape[1], 0) // 2\n",
    "    image = tf.image.crop_to_bounding_box(\n",
    "        image, offset_y, offset_x, new_shape, new_shape)\n",
    "    return image"
   ]
  },
  {
   "cell_type": "code",
   "execution_count": null,
   "id": "4aa50d43",
   "metadata": {},
   "outputs": [],
   "source": [
    "@functools.lru_cache(maxsize=None)\n",
    "def load_image(image_url, image_size=(256, 256), preserve_aspect_ratio=True):\n",
    "    # Загружает и переберает картинки\n",
    "    # сохраняет картинку на компьютер\n",
    "    image_path = tf.keras.utils.get_file(os.path.basename(image_url)[-128:], image_url)\n",
    "    # Load and convert to float32 numpy array, add batch dimension, and normalize to range [0, 1].\n",
    "    img = tf.io.decode_image(\n",
    "        tf.io.read_file(image_path),\n",
    "        channels=3, dtype=tf.float32)[tf.newaxis, ...]\n",
    "    img = crop_center(img)\n",
    "    img = tf.image.resize(img, image_size, preserve_aspect_ratio=True)\n",
    "    return img"
   ]
  },
  {
   "cell_type": "code",
   "execution_count": null,
   "id": "a0fa5155",
   "metadata": {},
   "outputs": [],
   "source": [
    "# Отображает картини\n",
    "def show_n(images, titles=('',)):\n",
    "    n = len(images)\n",
    "    image_sizes = [image.shape[1] for image in images]\n",
    "    w = (image_sizes[0] * 6) // 320\n",
    "    plt.figure(figsize=(w  * n, w))\n",
    "    gs = gridspec.GridSpec(1, n, width_ratios=image_sizes)\n",
    "    for i in range(n):\n",
    "        plt.subplot(gs[i])\n",
    "        plt.imshow(images[i][0], aspect='equal')\n",
    "        plt.axis('off')\n",
    "        plt.title(titles[i] if len(titles) > i else '')\n",
    "    plt.show()"
   ]
  },
  {
   "cell_type": "markdown",
   "id": "b3e8211a",
   "metadata": {},
   "source": [
    "Добавим наши картинки. одна со стилем\n",
    "    https://upload.wikimedia.org/wikipedia/commons/0/0a/The_Great_Wave_off_Kanagawa.jpg\n",
    "Другая для стилизации\n",
    "https://images.unsplash.com/40/lUUnN7VGSoWZ3noefeH7_Baker%20Beach-12.jpg?ixlib=rb-1.2.1&ixid=MnwxMjA3fDB8MHxwaG90by1wYWdlfHx8fGVufDB8fHx8&auto=format&fit=crop&w=750&q=80"
   ]
  },
  {
   "cell_type": "code",
   "execution_count": null,
   "id": "9fe489bd",
   "metadata": {},
   "outputs": [],
   "source": [
    "content_image_url = 'https://images.unsplash.com/40/lUUnN7VGSoWZ3noefeH7_Baker%20Beach-12.jpg?ixlib=rb-1.2.1&ixid=MnwxMjA3fDB8MHxwaG90by1wYWdlfHx8fGVufDB8fHx8&auto=format&fit=crop&w=750&q=80'\n",
    "style_image_url = 'https://upload.wikimedia.org/wikipedia/commons/0/0a/The_Great_Wave_off_Kanagawa.jpg'\n"
   ]
  },
  {
   "cell_type": "markdown",
   "id": "4e587904",
   "metadata": {},
   "source": [
    "Дополнительные переменные для размера картинки"
   ]
  },
  {
   "cell_type": "code",
   "execution_count": null,
   "id": "fad1fdb0",
   "metadata": {},
   "outputs": [],
   "source": [
    "output_image_size = 512# 1024\n",
    "# The content image size can be arbitrary.\n",
    "content_img_size = (output_image_size, output_image_size)\n",
    "# The style prediction model was trained with image size 256 and it's the \n",
    "# recommended image size for the style image (though, other sizes work as \n",
    "# well but will lead to different results).\n",
    "style_img_size = (256, 256)  # Recommended to keep it at 256.\n"
   ]
  },
  {
   "cell_type": "markdown",
   "id": "30e64c05",
   "metadata": {},
   "source": [
    "Загружаем и показываем картинки после 'уквадрачивания' `patent pending`"
   ]
  },
  {
   "cell_type": "code",
   "execution_count": null,
   "id": "91c7d17c",
   "metadata": {},
   "outputs": [],
   "source": [
    "\n",
    "content_image = load_image(content_image_url, content_img_size)\n",
    "style_image = load_image(style_image_url, style_img_size)\n",
    "style_image = tf.nn.avg_pool(style_image, ksize=[3,3], strides=[1,1], padding='SAME')\n",
    "show_n([content_image, style_image], ['Content image', 'Style image'])"
   ]
  },
  {
   "cell_type": "markdown",
   "id": "6dc6f723",
   "metadata": {},
   "source": [
    "Игнорируем предупреждения по тенсорфлоу бирари так-как это важно только в продукшн среде\n",
    "# подгружаем нашу модель"
   ]
  },
  {
   "cell_type": "code",
   "execution_count": null,
   "id": "fb3ec7a6",
   "metadata": {},
   "outputs": [],
   "source": [
    "# она весит много!\n",
    "hub_handle = 'https://tfhub.dev/google/magenta/arbitrary-image-stylization-v1-256/2'\n",
    "hub_module = hub.load(hub_handle)"
   ]
  },
  {
   "cell_type": "markdown",
   "id": "b2ab8fa0",
   "metadata": {},
   "source": [
    "Запускаем наш генератор с этими картинками"
   ]
  },
  {
   "cell_type": "code",
   "execution_count": null,
   "id": "728dca10",
   "metadata": {
    "scrolled": true
   },
   "outputs": [],
   "source": [
    "# Stylize content image with given style image.\n",
    "# This is pretty fast within a few milliseconds on a GPU.\n",
    "\n",
    "outputs = hub_module(tf.constant(content_image), tf.constant(style_image))\n",
    "stylized_image = outputs[0]"
   ]
  },
  {
   "cell_type": "markdown",
   "id": "1d254f77",
   "metadata": {},
   "source": [
    "отображаем до и после!"
   ]
  },
  {
   "cell_type": "code",
   "execution_count": null,
   "id": "8c63ca03",
   "metadata": {
    "scrolled": true
   },
   "outputs": [],
   "source": [
    "# Visualize input images and the generated stylized image.\n",
    "\n",
    "show_n([content_image, style_image, stylized_image], titles=['Original content image', 'Style image', 'Stylized image'])"
   ]
  },
  {
   "cell_type": "markdown",
   "id": "745ae400",
   "metadata": {},
   "source": [
    "Так-себе попробуем ещё! вот список возможных стилей и картинки можем получить на unsplash.com\n",
    "- kanagawa_great_wave https://upload.wikimedia.org/wikipedia/commons/0/0a/The_Great_Wave_off_Kanagawa.jpg\n",
    "- kandinsky_composition_7 https://upload.wikimedia.org/wikipedia/commons/b/b4/Vassily_Kandinsky%2C_1913_-_Composition_7.jpg\n",
    "- hubble_pillars_of_creation https://upload.wikimedia.org/wikipedia/commons/6/68/Pillars_of_creation_2014_HST_WFC3-UVIS_full-res_denoised.jpg\n",
    "- van_gogh_starry_night https://upload.wikimedia.org/wikipedia/commons/thumb/e/ea/Van_Gogh_-_Starry_Night_-_Google_Art_Project.jpg/1024px-Van_Gogh_-_Starry_Night_-_Google_Art_Project.jpg\n",
    "- turner_nantes https://upload.wikimedia.org/wikipedia/commons/b/b7/JMW_Turner_-_Nantes_from_the_Ile_Feydeau.jpg\n",
    "- munch_scream https://upload.wikimedia.org/wikipedia/commons/c/c5/Edvard_Munch%2C_1893%2C_The_Scream%2C_oil%2C_tempera_and_pastel_on_cardboard%2C_91_x_73_cm%2C_National_Gallery_of_Norway.jpg\n",
    "- picasso_demoiselles_avignon https://upload.wikimedia.org/wikipedia/en/4/4c/Les_Demoiselles_d%27Avignon.jpg\n",
    "- picasso_violin https://upload.wikimedia.org/wikipedia/en/3/3c/Pablo_Picasso%2C_1911-12%2C_Violon_%28Violin%29%2C_oil_on_canvas%2C_Kr%C3%B6ller-M%C3%BCller_Museum%2C_Otterlo%2C_Netherlands.jpg\n",
    "- picasso_bottle_of_rum https://upload.wikimedia.org/wikipedia/en/7/7f/Pablo_Picasso%2C_1911%2C_Still_Life_with_a_Bottle_of_Rum%2C_oil_on_canvas%2C_61.3_x_50.5_cm%2C_Metropolitan_Museum_of_Art%2C_New_York.jpg\n",
    "- fire https://upload.wikimedia.org/wikipedia/commons/3/36/Large_bonfire.jpg\n",
    "- derkovits_woman_head https://upload.wikimedia.org/wikipedia/commons/0/0d/Derkovits_Gyula_Woman_head_1922.jpg\n",
    "- amadeo_style_life https://upload.wikimedia.org/wikipedia/commons/8/8e/Untitled_%28Still_life%29_%281913%29_-_Amadeo_Souza-Cardoso_%281887-1918%29_%2817385824283%29.jpg\n",
    "- derkovtis_talig https://upload.wikimedia.org/wikipedia/commons/3/37/Derkovits_Gyula_Talig%C3%A1s_1920.jpg\n",
    "- amadeo_cardoso https://upload.wikimedia.org/wikipedia/commons/7/7d/Amadeo_de_Souza-Cardoso%2C_1915_-_Landscape_with_black_figure.jpg"
   ]
  },
  {
   "cell_type": "code",
   "execution_count": null,
   "id": "8951c6da",
   "metadata": {},
   "outputs": [],
   "source": [
    "kanagawa_great_wave='https://upload.wikimedia.org/wikipedia/commons/0/0a/The_Great_Wave_off_Kanagawa.jpg'\n",
    "kandinsky_composition_7='https://upload.wikimedia.org/wikipedia/commons/b/b4/Vassily_Kandinsky%2C_1913_-_Composition_7.jpg'\n",
    "hubble_pillars_of_creation='https://upload.wikimedia.org/wikipedia/commons/6/68/Pillars_of_creation_2014_HST_WFC3-UVIS_full-res_denoised.jpg'\n",
    "van_gogh_starry_night='https://upload.wikimedia.org/wikipedia/commons/thumb/e/ea/Van_Gogh_-_Starry_Night_-_Google_Art_Project.jpg/1024px-Van_Gogh_-_Starry_Night_-_Google_Art_Project.jpg'\n",
    "turner_nantes='https://upload.wikimedia.org/wikipedia/commons/b/b7/JMW_Turner_-_Nantes_from_the_Ile_Feydeau.jpg'\n",
    "munch_scream='https://upload.wikimedia.org/wikipedia/commons/c/c5/Edvard_Munch%2C_1893%2C_The_Scream%2C_oil%2C_tempera_and_pastel_on_cardboard%2C_91_x_73_cm%2C_National_Gallery_of_Norway.jpg'\n",
    "picasso_demoiselles_avignon='https://upload.wikimedia.org/wikipedia/en/4/4c/Les_Demoiselles_d%27Avignon.jpg'\n",
    "picasso_violin='https://upload.wikimedia.org/wikipedia/en/3/3c/Pablo_Picasso%2C_1911-12%2C_Violon_%28Violin%29%2C_oil_on_canvas%2C_Kr%C3%B6ller-M%C3%BCller_Museum%2C_Otterlo%2C_Netherlands.jpg'\n",
    "picasso_bottle_of_rum='https://upload.wikimedia.org/wikipedia/en/7/7f/Pablo_Picasso%2C_1911%2C_Still_Life_with_a_Bottle_of_Rum%2C_oil_on_canvas%2C_61.3_x_50.5_cm%2C_Metropolitan_Museum_of_Art%2C_New_York.jpg'\n",
    "fire='https://upload.wikimedia.org/wikipedia/commons/3/36/Large_bonfire.jpg'\n",
    "derkovits_woman_head='https://upload.wikimedia.org/wikipedia/commons/0/0d/Derkovits_Gyula_Woman_head_1922.jpg'\n",
    "amadeo_style_life='https://upload.wikimedia.org/wikipedia/commons/8/8e/Untitled_%28Still_life%29_%281913%29_-_Amadeo_Souza-Cardoso_%281887-1918%29_%2817385824283%29.jpg'\n",
    "derkovtis_talig = 'https://upload.wikimedia.org/wikipedia/commons/3/37/Derkovits_Gyula_Talig%C3%A1s_1920.jpg'\n",
    "amadeo_cardoso ='https://upload.wikimedia.org/wikipedia/commons/7/7d/Amadeo_de_Souza-Cardoso%2C_1915_-_Landscape_with_black_figure.jpg'"
   ]
  },
  {
   "cell_type": "code",
   "execution_count": null,
   "id": "2f66e8b1",
   "metadata": {},
   "outputs": [],
   "source": [
    "woman_in_hall = 'https://images.unsplash.com/photo-1586420947996-3a793c64c120?ixid=MnwxMjA3fDB8MHxwaG90by1wYWdlfHx8fGVufDB8fHx8&ixlib=rb-1.2.1&auto=format&fit=crop&w=2734&q=80'\n",
    "notebook = 'https://images.unsplash.com/photo-1593642634315-48f5414c3ad9?ixid=MnwxMjA3fDF8MHxwaG90by1wYWdlfHx8fGVufDB8fHx8&ixlib=rb-1.2.1&auto=format&fit=crop&w=750&q=80'\n",
    "peak = 'https://images.unsplash.com/photo-1623555448479-22c56bfc26ab?ixid=MnwxMjA3fDB8MHxwaG90by1wYWdlfHx8fGVufDB8fHx8&ixlib=rb-1.2.1&auto=format&fit=crop&w=1739&q=80'\n",
    "bridge = 'https://images.unsplash.com/40/lUUnN7VGSoWZ3noefeH7_Baker%20Beach-12.jpg?ixlib=rb-1.2.1&ixid=MnwxMjA3fDB8MHxwaG90by1wYWdlfHx8fGVufDB8fHx8&auto=format&fit=crop&w=750&q=80'"
   ]
  },
  {
   "cell_type": "code",
   "execution_count": null,
   "id": "0c38d9b3",
   "metadata": {
    "scrolled": true
   },
   "outputs": [],
   "source": [
    "content_image_url = bridge\n",
    "style_image_url = amadeo_style_life\n",
    "\n",
    "content_image = load_image(content_image_url, content_img_size)\n",
    "style_image = load_image(style_image_url, style_img_size)\n",
    "style_image = tf.nn.avg_pool(style_image, ksize=[3,3], strides=[1,1], padding='SAME')\n",
    "show_n([content_image, style_image], ['Content image', 'Style image'])"
   ]
  },
  {
   "cell_type": "code",
   "execution_count": null,
   "id": "3590523a",
   "metadata": {
    "scrolled": false
   },
   "outputs": [],
   "source": [
    "# Stylize content image with given style image.\n",
    "# This is pretty fast within a few milliseconds on a GPU.\n",
    "outputs = hub_module(tf.constant(content_image), tf.constant(style_image))\n",
    "stylized_image = outputs[0]\n",
    "# Visualize input images and the generated stylized image.\n",
    "show_n([content_image, style_image, stylized_image], titles=['Original content image', 'Style image', 'Stylized image'])"
   ]
  },
  {
   "cell_type": "markdown",
   "id": "2130b026",
   "metadata": {},
   "source": [
    "И пожалуй получим нашу картинку из нейросети и сохраним"
   ]
  },
  {
   "cell_type": "code",
   "execution_count": null,
   "id": "600f38d7",
   "metadata": {
    "scrolled": true
   },
   "outputs": [],
   "source": [
    "img = tf.keras.preprocessing.image.save_img('file.png',stylized_image[0])\n"
   ]
  },
  {
   "cell_type": "code",
   "execution_count": null,
   "id": "b762e124",
   "metadata": {},
   "outputs": [],
   "source": []
  }
 ],
 "metadata": {
  "kernelspec": {
   "display_name": "Lesson-22",
   "language": "python",
   "name": "lesson-22"
  },
  "language_info": {
   "codemirror_mode": {
    "name": "ipython",
    "version": 3
   },
   "file_extension": ".py",
   "mimetype": "text/x-python",
   "name": "python",
   "nbconvert_exporter": "python",
   "pygments_lexer": "ipython3",
   "version": "3.9.2"
  }
 },
 "nbformat": 4,
 "nbformat_minor": 5
}
