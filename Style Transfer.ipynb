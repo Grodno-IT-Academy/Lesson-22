{
 "cells": [
  {
   "cell_type": "markdown",
   "id": "270b4052",
   "metadata": {},
   "source": [
    "Импортируем нужные нам библиотеки"
   ]
  },
  {
   "cell_type": "code",
   "execution_count": 1,
   "id": "b3753e3a",
   "metadata": {},
   "outputs": [],
   "source": [
    "import functools\n",
    "import os\n",
    "\n",
    "from matplotlib import gridspec\n",
    "import matplotlib.pylab as plt\n",
    "import numpy as np\n",
    "import tensorflow as tf\n",
    "import tensorflow_hub as hub"
   ]
  },
  {
   "cell_type": "markdown",
   "id": "6d7e8bff",
   "metadata": {},
   "source": [
    "Проверяем версии библиотек"
   ]
  },
  {
   "cell_type": "code",
   "execution_count": 3,
   "id": "2cc4d362",
   "metadata": {},
   "outputs": [
    {
     "name": "stdout",
     "output_type": "stream",
     "text": [
      "TF Version:  2.5.0\n",
      "TF-Hub version:  0.12.0\n",
      "Eager mode enabled:  True\n",
      "GPU available:  []\n"
     ]
    }
   ],
   "source": [
    "print(\"TF Version: \", tf.__version__)\n",
    "print(\"TF-Hub version: \", hub.__version__)\n",
    "print(\"Eager mode enabled: \", tf.executing_eagerly())\n",
    "print(\"GPU available: \", tf.config.list_physical_devices('GPU'))"
   ]
  },
  {
   "cell_type": "markdown",
   "id": "ffda755c",
   "metadata": {},
   "source": [
    "Здесь мы не замарачивались с графичеким драйвером так как на моём ноуте `AMD` графика а не `NVIDIA CUDA`"
   ]
  },
  {
   "cell_type": "code",
   "execution_count": null,
   "id": "9171d504",
   "metadata": {},
   "outputs": [],
   "source": []
  }
 ],
 "metadata": {
  "kernelspec": {
   "display_name": "Lesson-22",
   "language": "python",
   "name": "lesson-22"
  },
  "language_info": {
   "codemirror_mode": {
    "name": "ipython",
    "version": 3
   },
   "file_extension": ".py",
   "mimetype": "text/x-python",
   "name": "python",
   "nbconvert_exporter": "python",
   "pygments_lexer": "ipython3",
   "version": "3.9.2"
  }
 },
 "nbformat": 4,
 "nbformat_minor": 5
}
